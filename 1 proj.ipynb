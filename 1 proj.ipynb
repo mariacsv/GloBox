{
 "cells": [
  {
   "cell_type": "code",
   "execution_count": 26,
   "id": "cfb8b419",
   "metadata": {},
   "outputs": [],
   "source": [
    "import pandas as pd\n",
    "import numpy as np"
   ]
  },
  {
   "cell_type": "code",
   "execution_count": 27,
   "id": "fdc13e1f",
   "metadata": {},
   "outputs": [
    {
     "data": {
      "text/html": [
       "<div>\n",
       "<style scoped>\n",
       "    .dataframe tbody tr th:only-of-type {\n",
       "        vertical-align: middle;\n",
       "    }\n",
       "\n",
       "    .dataframe tbody tr th {\n",
       "        vertical-align: top;\n",
       "    }\n",
       "\n",
       "    .dataframe thead th {\n",
       "        text-align: right;\n",
       "    }\n",
       "</style>\n",
       "<table border=\"1\" class=\"dataframe\">\n",
       "  <thead>\n",
       "    <tr style=\"text-align: right;\">\n",
       "      <th></th>\n",
       "      <th>id</th>\n",
       "      <th>country</th>\n",
       "      <th>gender</th>\n",
       "      <th>uid</th>\n",
       "      <th>group</th>\n",
       "      <th>join_dt</th>\n",
       "      <th>device</th>\n",
       "      <th>uid.1</th>\n",
       "      <th>dt</th>\n",
       "      <th>device.1</th>\n",
       "      <th>spent</th>\n",
       "    </tr>\n",
       "  </thead>\n",
       "  <tbody>\n",
       "    <tr>\n",
       "      <th>24501</th>\n",
       "      <td>1024955</td>\n",
       "      <td>USA</td>\n",
       "      <td>M</td>\n",
       "      <td>1024955</td>\n",
       "      <td>B</td>\n",
       "      <td>2023-01-28</td>\n",
       "      <td>I</td>\n",
       "      <td>NaN</td>\n",
       "      <td>NaN</td>\n",
       "      <td>NaN</td>\n",
       "      <td>NaN</td>\n",
       "    </tr>\n",
       "    <tr>\n",
       "      <th>18349</th>\n",
       "      <td>1018692</td>\n",
       "      <td>TUR</td>\n",
       "      <td>F</td>\n",
       "      <td>1018692</td>\n",
       "      <td>B</td>\n",
       "      <td>2023-01-28</td>\n",
       "      <td>A</td>\n",
       "      <td>NaN</td>\n",
       "      <td>NaN</td>\n",
       "      <td>NaN</td>\n",
       "      <td>NaN</td>\n",
       "    </tr>\n",
       "    <tr>\n",
       "      <th>31640</th>\n",
       "      <td>1032226</td>\n",
       "      <td>USA</td>\n",
       "      <td>M</td>\n",
       "      <td>1032226</td>\n",
       "      <td>B</td>\n",
       "      <td>2023-01-25</td>\n",
       "      <td>I</td>\n",
       "      <td>NaN</td>\n",
       "      <td>NaN</td>\n",
       "      <td>NaN</td>\n",
       "      <td>NaN</td>\n",
       "    </tr>\n",
       "    <tr>\n",
       "      <th>20576</th>\n",
       "      <td>1020959</td>\n",
       "      <td>DEU</td>\n",
       "      <td>NaN</td>\n",
       "      <td>1020959</td>\n",
       "      <td>A</td>\n",
       "      <td>2023-01-25</td>\n",
       "      <td>I</td>\n",
       "      <td>NaN</td>\n",
       "      <td>NaN</td>\n",
       "      <td>NaN</td>\n",
       "      <td>NaN</td>\n",
       "    </tr>\n",
       "    <tr>\n",
       "      <th>3927</th>\n",
       "      <td>1004006</td>\n",
       "      <td>BRA</td>\n",
       "      <td>M</td>\n",
       "      <td>1004006</td>\n",
       "      <td>B</td>\n",
       "      <td>2023-02-03</td>\n",
       "      <td>A</td>\n",
       "      <td>NaN</td>\n",
       "      <td>NaN</td>\n",
       "      <td>NaN</td>\n",
       "      <td>NaN</td>\n",
       "    </tr>\n",
       "    <tr>\n",
       "      <th>15636</th>\n",
       "      <td>1015922</td>\n",
       "      <td>CAN</td>\n",
       "      <td>NaN</td>\n",
       "      <td>1015922</td>\n",
       "      <td>B</td>\n",
       "      <td>2023-02-01</td>\n",
       "      <td>I</td>\n",
       "      <td>NaN</td>\n",
       "      <td>NaN</td>\n",
       "      <td>NaN</td>\n",
       "      <td>NaN</td>\n",
       "    </tr>\n",
       "    <tr>\n",
       "      <th>35673</th>\n",
       "      <td>1036345</td>\n",
       "      <td>MEX</td>\n",
       "      <td>F</td>\n",
       "      <td>1036345</td>\n",
       "      <td>B</td>\n",
       "      <td>2023-01-26</td>\n",
       "      <td>I</td>\n",
       "      <td>NaN</td>\n",
       "      <td>NaN</td>\n",
       "      <td>NaN</td>\n",
       "      <td>NaN</td>\n",
       "    </tr>\n",
       "    <tr>\n",
       "      <th>14995</th>\n",
       "      <td>1015273</td>\n",
       "      <td>FRA</td>\n",
       "      <td>F</td>\n",
       "      <td>1015273</td>\n",
       "      <td>A</td>\n",
       "      <td>2023-01-27</td>\n",
       "      <td>I</td>\n",
       "      <td>NaN</td>\n",
       "      <td>NaN</td>\n",
       "      <td>NaN</td>\n",
       "      <td>NaN</td>\n",
       "    </tr>\n",
       "    <tr>\n",
       "      <th>35145</th>\n",
       "      <td>1035807</td>\n",
       "      <td>USA</td>\n",
       "      <td>F</td>\n",
       "      <td>1035807</td>\n",
       "      <td>B</td>\n",
       "      <td>2023-02-02</td>\n",
       "      <td>A</td>\n",
       "      <td>NaN</td>\n",
       "      <td>NaN</td>\n",
       "      <td>NaN</td>\n",
       "      <td>NaN</td>\n",
       "    </tr>\n",
       "    <tr>\n",
       "      <th>28711</th>\n",
       "      <td>1029228</td>\n",
       "      <td>TUR</td>\n",
       "      <td>M</td>\n",
       "      <td>1029228</td>\n",
       "      <td>B</td>\n",
       "      <td>2023-01-28</td>\n",
       "      <td>A</td>\n",
       "      <td>NaN</td>\n",
       "      <td>NaN</td>\n",
       "      <td>NaN</td>\n",
       "      <td>NaN</td>\n",
       "    </tr>\n",
       "    <tr>\n",
       "      <th>13931</th>\n",
       "      <td>1014190</td>\n",
       "      <td>USA</td>\n",
       "      <td>M</td>\n",
       "      <td>1014190</td>\n",
       "      <td>A</td>\n",
       "      <td>2023-01-26</td>\n",
       "      <td>I</td>\n",
       "      <td>NaN</td>\n",
       "      <td>NaN</td>\n",
       "      <td>NaN</td>\n",
       "      <td>NaN</td>\n",
       "    </tr>\n",
       "    <tr>\n",
       "      <th>8335</th>\n",
       "      <td>1008498</td>\n",
       "      <td>BRA</td>\n",
       "      <td>F</td>\n",
       "      <td>1008498</td>\n",
       "      <td>A</td>\n",
       "      <td>2023-01-28</td>\n",
       "      <td>I</td>\n",
       "      <td>NaN</td>\n",
       "      <td>NaN</td>\n",
       "      <td>NaN</td>\n",
       "      <td>NaN</td>\n",
       "    </tr>\n",
       "    <tr>\n",
       "      <th>28433</th>\n",
       "      <td>1028945</td>\n",
       "      <td>DEU</td>\n",
       "      <td>F</td>\n",
       "      <td>1028945</td>\n",
       "      <td>B</td>\n",
       "      <td>2023-01-25</td>\n",
       "      <td>I</td>\n",
       "      <td>NaN</td>\n",
       "      <td>NaN</td>\n",
       "      <td>NaN</td>\n",
       "      <td>NaN</td>\n",
       "    </tr>\n",
       "    <tr>\n",
       "      <th>15318</th>\n",
       "      <td>1015599</td>\n",
       "      <td>USA</td>\n",
       "      <td>F</td>\n",
       "      <td>1015599</td>\n",
       "      <td>A</td>\n",
       "      <td>2023-01-27</td>\n",
       "      <td>I</td>\n",
       "      <td>NaN</td>\n",
       "      <td>NaN</td>\n",
       "      <td>NaN</td>\n",
       "      <td>NaN</td>\n",
       "    </tr>\n",
       "    <tr>\n",
       "      <th>26674</th>\n",
       "      <td>1027155</td>\n",
       "      <td>USA</td>\n",
       "      <td>M</td>\n",
       "      <td>1027155</td>\n",
       "      <td>B</td>\n",
       "      <td>2023-01-29</td>\n",
       "      <td>I</td>\n",
       "      <td>NaN</td>\n",
       "      <td>NaN</td>\n",
       "      <td>NaN</td>\n",
       "      <td>NaN</td>\n",
       "    </tr>\n",
       "  </tbody>\n",
       "</table>\n",
       "</div>"
      ],
      "text/plain": [
       "            id country gender      uid group     join_dt device  uid.1   dt  \\\n",
       "24501  1024955     USA      M  1024955     B  2023-01-28      I    NaN  NaN   \n",
       "18349  1018692     TUR      F  1018692     B  2023-01-28      A    NaN  NaN   \n",
       "31640  1032226     USA      M  1032226     B  2023-01-25      I    NaN  NaN   \n",
       "20576  1020959     DEU    NaN  1020959     A  2023-01-25      I    NaN  NaN   \n",
       "3927   1004006     BRA      M  1004006     B  2023-02-03      A    NaN  NaN   \n",
       "15636  1015922     CAN    NaN  1015922     B  2023-02-01      I    NaN  NaN   \n",
       "35673  1036345     MEX      F  1036345     B  2023-01-26      I    NaN  NaN   \n",
       "14995  1015273     FRA      F  1015273     A  2023-01-27      I    NaN  NaN   \n",
       "35145  1035807     USA      F  1035807     B  2023-02-02      A    NaN  NaN   \n",
       "28711  1029228     TUR      M  1029228     B  2023-01-28      A    NaN  NaN   \n",
       "13931  1014190     USA      M  1014190     A  2023-01-26      I    NaN  NaN   \n",
       "8335   1008498     BRA      F  1008498     A  2023-01-28      I    NaN  NaN   \n",
       "28433  1028945     DEU      F  1028945     B  2023-01-25      I    NaN  NaN   \n",
       "15318  1015599     USA      F  1015599     A  2023-01-27      I    NaN  NaN   \n",
       "26674  1027155     USA      M  1027155     B  2023-01-29      I    NaN  NaN   \n",
       "\n",
       "      device.1  spent  \n",
       "24501      NaN    NaN  \n",
       "18349      NaN    NaN  \n",
       "31640      NaN    NaN  \n",
       "20576      NaN    NaN  \n",
       "3927       NaN    NaN  \n",
       "15636      NaN    NaN  \n",
       "35673      NaN    NaN  \n",
       "14995      NaN    NaN  \n",
       "35145      NaN    NaN  \n",
       "28711      NaN    NaN  \n",
       "13931      NaN    NaN  \n",
       "8335       NaN    NaN  \n",
       "28433      NaN    NaN  \n",
       "15318      NaN    NaN  \n",
       "26674      NaN    NaN  "
      ]
     },
     "execution_count": 27,
     "metadata": {},
     "output_type": "execute_result"
    }
   ],
   "source": [
    "df.sample(15)"
   ]
  },
  {
   "cell_type": "code",
   "execution_count": 28,
   "id": "5ae575e8",
   "metadata": {},
   "outputs": [
    {
     "name": "stdout",
     "output_type": "stream",
     "text": [
      "<class 'pandas.core.frame.DataFrame'>\n",
      "RangeIndex: 49082 entries, 0 to 49081\n",
      "Data columns (total 11 columns):\n",
      " #   Column    Non-Null Count  Dtype  \n",
      "---  ------    --------------  -----  \n",
      " 0   id        49082 non-null  int64  \n",
      " 1   country   48435 non-null  object \n",
      " 2   gender    42200 non-null  object \n",
      " 3   uid       49082 non-null  int64  \n",
      " 4   group     49082 non-null  object \n",
      " 5   join_dt   49082 non-null  object \n",
      " 6   device    48787 non-null  object \n",
      " 7   uid.1     2233 non-null   float64\n",
      " 8   dt        2233 non-null   object \n",
      " 9   device.1  2223 non-null   object \n",
      " 10  spent     2233 non-null   float64\n",
      "dtypes: float64(2), int64(2), object(7)\n",
      "memory usage: 4.1+ MB\n"
     ]
    }
   ],
   "source": [
    "df.info()"
   ]
  },
  {
   "cell_type": "code",
   "execution_count": 30,
   "id": "e8457f8b",
   "metadata": {},
   "outputs": [
    {
     "name": "stdout",
     "output_type": "stream",
     "text": [
      "id              0\n",
      "country       647\n",
      "gender       6882\n",
      "uid             0\n",
      "group           0\n",
      "join_dt         0\n",
      "device        295\n",
      "uid.1       46849\n",
      "dt          46849\n",
      "device.1    46859\n",
      "spent       46849\n",
      "dtype: int64\n",
      "0\n"
     ]
    }
   ],
   "source": [
    "print(df.isnull().sum())\n",
    "print(df.duplicated().sum())"
   ]
  },
  {
   "cell_type": "code",
   "execution_count": 31,
   "id": "8f4b8d2e",
   "metadata": {},
   "outputs": [
    {
     "data": {
      "text/html": [
       "<div>\n",
       "<style scoped>\n",
       "    .dataframe tbody tr th:only-of-type {\n",
       "        vertical-align: middle;\n",
       "    }\n",
       "\n",
       "    .dataframe tbody tr th {\n",
       "        vertical-align: top;\n",
       "    }\n",
       "\n",
       "    .dataframe thead th {\n",
       "        text-align: right;\n",
       "    }\n",
       "</style>\n",
       "<table border=\"1\" class=\"dataframe\">\n",
       "  <thead>\n",
       "    <tr style=\"text-align: right;\">\n",
       "      <th></th>\n",
       "      <th>id</th>\n",
       "      <th>country</th>\n",
       "      <th>gender</th>\n",
       "      <th>uid</th>\n",
       "      <th>group</th>\n",
       "      <th>join_dt</th>\n",
       "      <th>device</th>\n",
       "      <th>uid.1</th>\n",
       "      <th>dt</th>\n",
       "      <th>device.1</th>\n",
       "      <th>spent</th>\n",
       "    </tr>\n",
       "  </thead>\n",
       "  <tbody>\n",
       "    <tr>\n",
       "      <th>38</th>\n",
       "      <td>1000039</td>\n",
       "      <td>GBR</td>\n",
       "      <td>F</td>\n",
       "      <td>1000039</td>\n",
       "      <td>B</td>\n",
       "      <td>2023-02-04</td>\n",
       "      <td>A</td>\n",
       "      <td>1000039.0</td>\n",
       "      <td>2023-02-04</td>\n",
       "      <td>A</td>\n",
       "      <td>36.650000</td>\n",
       "    </tr>\n",
       "    <tr>\n",
       "      <th>44</th>\n",
       "      <td>1000045</td>\n",
       "      <td>USA</td>\n",
       "      <td>F</td>\n",
       "      <td>1000045</td>\n",
       "      <td>B</td>\n",
       "      <td>2023-01-26</td>\n",
       "      <td>I</td>\n",
       "      <td>1000045.0</td>\n",
       "      <td>2023-01-30</td>\n",
       "      <td>I</td>\n",
       "      <td>51.580000</td>\n",
       "    </tr>\n",
       "    <tr>\n",
       "      <th>69</th>\n",
       "      <td>1000071</td>\n",
       "      <td>USA</td>\n",
       "      <td>F</td>\n",
       "      <td>1000071</td>\n",
       "      <td>B</td>\n",
       "      <td>2023-01-31</td>\n",
       "      <td>I</td>\n",
       "      <td>1000071.0</td>\n",
       "      <td>2023-02-02</td>\n",
       "      <td>I</td>\n",
       "      <td>6.710000</td>\n",
       "    </tr>\n",
       "    <tr>\n",
       "      <th>98</th>\n",
       "      <td>1000101</td>\n",
       "      <td>MEX</td>\n",
       "      <td>F</td>\n",
       "      <td>1000101</td>\n",
       "      <td>B</td>\n",
       "      <td>2023-02-02</td>\n",
       "      <td>A</td>\n",
       "      <td>1000101.0</td>\n",
       "      <td>2023-02-05</td>\n",
       "      <td>A</td>\n",
       "      <td>5.674497</td>\n",
       "    </tr>\n",
       "    <tr>\n",
       "      <th>99</th>\n",
       "      <td>1000101</td>\n",
       "      <td>MEX</td>\n",
       "      <td>F</td>\n",
       "      <td>1000101</td>\n",
       "      <td>B</td>\n",
       "      <td>2023-02-02</td>\n",
       "      <td>A</td>\n",
       "      <td>1000101.0</td>\n",
       "      <td>2023-02-02</td>\n",
       "      <td>A</td>\n",
       "      <td>18.130000</td>\n",
       "    </tr>\n",
       "    <tr>\n",
       "      <th>...</th>\n",
       "      <td>...</td>\n",
       "      <td>...</td>\n",
       "      <td>...</td>\n",
       "      <td>...</td>\n",
       "      <td>...</td>\n",
       "      <td>...</td>\n",
       "      <td>...</td>\n",
       "      <td>...</td>\n",
       "      <td>...</td>\n",
       "      <td>...</td>\n",
       "      <td>...</td>\n",
       "    </tr>\n",
       "    <tr>\n",
       "      <th>48964</th>\n",
       "      <td>1049880</td>\n",
       "      <td>TUR</td>\n",
       "      <td>M</td>\n",
       "      <td>1049880</td>\n",
       "      <td>A</td>\n",
       "      <td>2023-01-26</td>\n",
       "      <td>I</td>\n",
       "      <td>1049880.0</td>\n",
       "      <td>2023-01-26</td>\n",
       "      <td>I</td>\n",
       "      <td>186.690000</td>\n",
       "    </tr>\n",
       "    <tr>\n",
       "      <th>48975</th>\n",
       "      <td>1049891</td>\n",
       "      <td>BRA</td>\n",
       "      <td>F</td>\n",
       "      <td>1049891</td>\n",
       "      <td>B</td>\n",
       "      <td>2023-01-26</td>\n",
       "      <td>A</td>\n",
       "      <td>1049891.0</td>\n",
       "      <td>2023-01-26</td>\n",
       "      <td>A</td>\n",
       "      <td>47.140000</td>\n",
       "    </tr>\n",
       "    <tr>\n",
       "      <th>48978</th>\n",
       "      <td>1049894</td>\n",
       "      <td>BRA</td>\n",
       "      <td>F</td>\n",
       "      <td>1049894</td>\n",
       "      <td>A</td>\n",
       "      <td>2023-01-25</td>\n",
       "      <td>I</td>\n",
       "      <td>1049894.0</td>\n",
       "      <td>2023-01-25</td>\n",
       "      <td>I</td>\n",
       "      <td>34.050000</td>\n",
       "    </tr>\n",
       "    <tr>\n",
       "      <th>49010</th>\n",
       "      <td>1049927</td>\n",
       "      <td>AUS</td>\n",
       "      <td>F</td>\n",
       "      <td>1049927</td>\n",
       "      <td>A</td>\n",
       "      <td>2023-01-25</td>\n",
       "      <td>A</td>\n",
       "      <td>1049927.0</td>\n",
       "      <td>2023-01-25</td>\n",
       "      <td>A</td>\n",
       "      <td>52.030000</td>\n",
       "    </tr>\n",
       "    <tr>\n",
       "      <th>49055</th>\n",
       "      <td>1049973</td>\n",
       "      <td>MEX</td>\n",
       "      <td>F</td>\n",
       "      <td>1049973</td>\n",
       "      <td>B</td>\n",
       "      <td>2023-01-27</td>\n",
       "      <td>A</td>\n",
       "      <td>1049973.0</td>\n",
       "      <td>2023-01-31</td>\n",
       "      <td>A</td>\n",
       "      <td>85.930000</td>\n",
       "    </tr>\n",
       "  </tbody>\n",
       "</table>\n",
       "<p>1842 rows × 11 columns</p>\n",
       "</div>"
      ],
      "text/plain": [
       "            id country gender      uid group     join_dt device      uid.1  \\\n",
       "38     1000039     GBR      F  1000039     B  2023-02-04      A  1000039.0   \n",
       "44     1000045     USA      F  1000045     B  2023-01-26      I  1000045.0   \n",
       "69     1000071     USA      F  1000071     B  2023-01-31      I  1000071.0   \n",
       "98     1000101     MEX      F  1000101     B  2023-02-02      A  1000101.0   \n",
       "99     1000101     MEX      F  1000101     B  2023-02-02      A  1000101.0   \n",
       "...        ...     ...    ...      ...   ...         ...    ...        ...   \n",
       "48964  1049880     TUR      M  1049880     A  2023-01-26      I  1049880.0   \n",
       "48975  1049891     BRA      F  1049891     B  2023-01-26      A  1049891.0   \n",
       "48978  1049894     BRA      F  1049894     A  2023-01-25      I  1049894.0   \n",
       "49010  1049927     AUS      F  1049927     A  2023-01-25      A  1049927.0   \n",
       "49055  1049973     MEX      F  1049973     B  2023-01-27      A  1049973.0   \n",
       "\n",
       "               dt device.1       spent  \n",
       "38     2023-02-04        A   36.650000  \n",
       "44     2023-01-30        I   51.580000  \n",
       "69     2023-02-02        I    6.710000  \n",
       "98     2023-02-05        A    5.674497  \n",
       "99     2023-02-02        A   18.130000  \n",
       "...           ...      ...         ...  \n",
       "48964  2023-01-26        I  186.690000  \n",
       "48975  2023-01-26        A   47.140000  \n",
       "48978  2023-01-25        I   34.050000  \n",
       "49010  2023-01-25        A   52.030000  \n",
       "49055  2023-01-31        A   85.930000  \n",
       "\n",
       "[1842 rows x 11 columns]"
      ]
     },
     "execution_count": 31,
     "metadata": {},
     "output_type": "execute_result"
    }
   ],
   "source": [
    "df_new = df.dropna()\n",
    "df_new"
   ]
  },
  {
   "cell_type": "code",
   "execution_count": 44,
   "id": "29bd5e28",
   "metadata": {},
   "outputs": [
    {
     "name": "stdout",
     "output_type": "stream",
     "text": [
      "<class 'pandas.core.frame.DataFrame'>\n",
      "Int64Index: 1842 entries, 38 to 49055\n",
      "Data columns (total 11 columns):\n",
      " #   Column    Non-Null Count  Dtype  \n",
      "---  ------    --------------  -----  \n",
      " 0   id        1842 non-null   int64  \n",
      " 1   country   1842 non-null   object \n",
      " 2   gender    1842 non-null   object \n",
      " 3   uid       1842 non-null   int64  \n",
      " 4   group     1842 non-null   object \n",
      " 5   join_dt   1842 non-null   object \n",
      " 6   device    1842 non-null   object \n",
      " 7   uid.1     1842 non-null   float64\n",
      " 8   dt        1842 non-null   object \n",
      " 9   device.1  1842 non-null   object \n",
      " 10  spent     1842 non-null   float64\n",
      "dtypes: float64(2), int64(2), object(7)\n",
      "memory usage: 172.7+ KB\n"
     ]
    }
   ],
   "source": [
    "df_new.info()"
   ]
  },
  {
   "cell_type": "code",
   "execution_count": 47,
   "id": "3e8d8317",
   "metadata": {},
   "outputs": [
    {
     "data": {
      "text/plain": [
       "3.752903304673811"
      ]
     },
     "execution_count": 47,
     "metadata": {},
     "output_type": "execute_result"
    }
   ],
   "source": [
    "len(df_new)/len(df) *100"
   ]
  },
  {
   "cell_type": "code",
   "execution_count": 32,
   "id": "d32d59b0",
   "metadata": {},
   "outputs": [
    {
     "data": {
      "text/html": [
       "<div>\n",
       "<style scoped>\n",
       "    .dataframe tbody tr th:only-of-type {\n",
       "        vertical-align: middle;\n",
       "    }\n",
       "\n",
       "    .dataframe tbody tr th {\n",
       "        vertical-align: top;\n",
       "    }\n",
       "\n",
       "    .dataframe thead th {\n",
       "        text-align: right;\n",
       "    }\n",
       "</style>\n",
       "<table border=\"1\" class=\"dataframe\">\n",
       "  <thead>\n",
       "    <tr style=\"text-align: right;\">\n",
       "      <th></th>\n",
       "      <th>id</th>\n",
       "      <th>country</th>\n",
       "      <th>gender</th>\n",
       "      <th>uid</th>\n",
       "      <th>group</th>\n",
       "      <th>join_dt</th>\n",
       "      <th>device</th>\n",
       "      <th>uid.1</th>\n",
       "      <th>dt</th>\n",
       "      <th>device.1</th>\n",
       "      <th>spent</th>\n",
       "    </tr>\n",
       "  </thead>\n",
       "  <tbody>\n",
       "    <tr>\n",
       "      <th>1</th>\n",
       "      <td>1000001</td>\n",
       "      <td>BRA</td>\n",
       "      <td>M</td>\n",
       "      <td>1000001</td>\n",
       "      <td>A</td>\n",
       "      <td>2023-01-27</td>\n",
       "      <td>A</td>\n",
       "      <td>NaN</td>\n",
       "      <td>NaN</td>\n",
       "      <td>NaN</td>\n",
       "      <td>NaN</td>\n",
       "    </tr>\n",
       "    <tr>\n",
       "      <th>2</th>\n",
       "      <td>1000002</td>\n",
       "      <td>FRA</td>\n",
       "      <td>M</td>\n",
       "      <td>1000002</td>\n",
       "      <td>A</td>\n",
       "      <td>2023-02-01</td>\n",
       "      <td>A</td>\n",
       "      <td>NaN</td>\n",
       "      <td>NaN</td>\n",
       "      <td>NaN</td>\n",
       "      <td>NaN</td>\n",
       "    </tr>\n",
       "    <tr>\n",
       "      <th>4</th>\n",
       "      <td>1000004</td>\n",
       "      <td>DEU</td>\n",
       "      <td>F</td>\n",
       "      <td>1000004</td>\n",
       "      <td>A</td>\n",
       "      <td>2023-02-04</td>\n",
       "      <td>A</td>\n",
       "      <td>NaN</td>\n",
       "      <td>NaN</td>\n",
       "      <td>NaN</td>\n",
       "      <td>NaN</td>\n",
       "    </tr>\n",
       "    <tr>\n",
       "      <th>7</th>\n",
       "      <td>1000007</td>\n",
       "      <td>BRA</td>\n",
       "      <td>F</td>\n",
       "      <td>1000007</td>\n",
       "      <td>A</td>\n",
       "      <td>2023-01-25</td>\n",
       "      <td>A</td>\n",
       "      <td>NaN</td>\n",
       "      <td>NaN</td>\n",
       "      <td>NaN</td>\n",
       "      <td>NaN</td>\n",
       "    </tr>\n",
       "    <tr>\n",
       "      <th>8</th>\n",
       "      <td>1000008</td>\n",
       "      <td>BRA</td>\n",
       "      <td>F</td>\n",
       "      <td>1000008</td>\n",
       "      <td>A</td>\n",
       "      <td>2023-02-05</td>\n",
       "      <td>A</td>\n",
       "      <td>NaN</td>\n",
       "      <td>NaN</td>\n",
       "      <td>NaN</td>\n",
       "      <td>NaN</td>\n",
       "    </tr>\n",
       "    <tr>\n",
       "      <th>...</th>\n",
       "      <td>...</td>\n",
       "      <td>...</td>\n",
       "      <td>...</td>\n",
       "      <td>...</td>\n",
       "      <td>...</td>\n",
       "      <td>...</td>\n",
       "      <td>...</td>\n",
       "      <td>...</td>\n",
       "      <td>...</td>\n",
       "      <td>...</td>\n",
       "      <td>...</td>\n",
       "    </tr>\n",
       "    <tr>\n",
       "      <th>49069</th>\n",
       "      <td>1049987</td>\n",
       "      <td>BRA</td>\n",
       "      <td>M</td>\n",
       "      <td>1049987</td>\n",
       "      <td>A</td>\n",
       "      <td>2023-01-26</td>\n",
       "      <td>I</td>\n",
       "      <td>NaN</td>\n",
       "      <td>NaN</td>\n",
       "      <td>NaN</td>\n",
       "      <td>NaN</td>\n",
       "    </tr>\n",
       "    <tr>\n",
       "      <th>49071</th>\n",
       "      <td>1049989</td>\n",
       "      <td>MEX</td>\n",
       "      <td>M</td>\n",
       "      <td>1049989</td>\n",
       "      <td>A</td>\n",
       "      <td>2023-01-25</td>\n",
       "      <td>I</td>\n",
       "      <td>NaN</td>\n",
       "      <td>NaN</td>\n",
       "      <td>NaN</td>\n",
       "      <td>NaN</td>\n",
       "    </tr>\n",
       "    <tr>\n",
       "      <th>49075</th>\n",
       "      <td>1049993</td>\n",
       "      <td>USA</td>\n",
       "      <td>M</td>\n",
       "      <td>1049993</td>\n",
       "      <td>A</td>\n",
       "      <td>2023-01-25</td>\n",
       "      <td>A</td>\n",
       "      <td>NaN</td>\n",
       "      <td>NaN</td>\n",
       "      <td>NaN</td>\n",
       "      <td>NaN</td>\n",
       "    </tr>\n",
       "    <tr>\n",
       "      <th>49076</th>\n",
       "      <td>1049994</td>\n",
       "      <td>USA</td>\n",
       "      <td>F</td>\n",
       "      <td>1049994</td>\n",
       "      <td>A</td>\n",
       "      <td>2023-01-25</td>\n",
       "      <td>A</td>\n",
       "      <td>NaN</td>\n",
       "      <td>NaN</td>\n",
       "      <td>NaN</td>\n",
       "      <td>NaN</td>\n",
       "    </tr>\n",
       "    <tr>\n",
       "      <th>49078</th>\n",
       "      <td>1049996</td>\n",
       "      <td>USA</td>\n",
       "      <td>F</td>\n",
       "      <td>1049996</td>\n",
       "      <td>A</td>\n",
       "      <td>2023-01-29</td>\n",
       "      <td>A</td>\n",
       "      <td>NaN</td>\n",
       "      <td>NaN</td>\n",
       "      <td>NaN</td>\n",
       "      <td>NaN</td>\n",
       "    </tr>\n",
       "  </tbody>\n",
       "</table>\n",
       "<p>24402 rows × 11 columns</p>\n",
       "</div>"
      ],
      "text/plain": [
       "            id country gender      uid group     join_dt device  uid.1   dt  \\\n",
       "1      1000001     BRA      M  1000001     A  2023-01-27      A    NaN  NaN   \n",
       "2      1000002     FRA      M  1000002     A  2023-02-01      A    NaN  NaN   \n",
       "4      1000004     DEU      F  1000004     A  2023-02-04      A    NaN  NaN   \n",
       "7      1000007     BRA      F  1000007     A  2023-01-25      A    NaN  NaN   \n",
       "8      1000008     BRA      F  1000008     A  2023-02-05      A    NaN  NaN   \n",
       "...        ...     ...    ...      ...   ...         ...    ...    ...  ...   \n",
       "49069  1049987     BRA      M  1049987     A  2023-01-26      I    NaN  NaN   \n",
       "49071  1049989     MEX      M  1049989     A  2023-01-25      I    NaN  NaN   \n",
       "49075  1049993     USA      M  1049993     A  2023-01-25      A    NaN  NaN   \n",
       "49076  1049994     USA      F  1049994     A  2023-01-25      A    NaN  NaN   \n",
       "49078  1049996     USA      F  1049996     A  2023-01-29      A    NaN  NaN   \n",
       "\n",
       "      device.1  spent  \n",
       "1          NaN    NaN  \n",
       "2          NaN    NaN  \n",
       "4          NaN    NaN  \n",
       "7          NaN    NaN  \n",
       "8          NaN    NaN  \n",
       "...        ...    ...  \n",
       "49069      NaN    NaN  \n",
       "49071      NaN    NaN  \n",
       "49075      NaN    NaN  \n",
       "49076      NaN    NaN  \n",
       "49078      NaN    NaN  \n",
       "\n",
       "[24402 rows x 11 columns]"
      ]
     },
     "execution_count": 32,
     "metadata": {},
     "output_type": "execute_result"
    }
   ],
   "source": [
    "control_group = df[df['group'] == 'A']\n",
    "control_group"
   ]
  },
  {
   "cell_type": "code",
   "execution_count": 33,
   "id": "ac13bd94",
   "metadata": {},
   "outputs": [
    {
     "data": {
      "text/html": [
       "<div>\n",
       "<style scoped>\n",
       "    .dataframe tbody tr th:only-of-type {\n",
       "        vertical-align: middle;\n",
       "    }\n",
       "\n",
       "    .dataframe tbody tr th {\n",
       "        vertical-align: top;\n",
       "    }\n",
       "\n",
       "    .dataframe thead th {\n",
       "        text-align: right;\n",
       "    }\n",
       "</style>\n",
       "<table border=\"1\" class=\"dataframe\">\n",
       "  <thead>\n",
       "    <tr style=\"text-align: right;\">\n",
       "      <th></th>\n",
       "      <th>id</th>\n",
       "      <th>country</th>\n",
       "      <th>gender</th>\n",
       "      <th>uid</th>\n",
       "      <th>group</th>\n",
       "      <th>join_dt</th>\n",
       "      <th>device</th>\n",
       "      <th>uid.1</th>\n",
       "      <th>dt</th>\n",
       "      <th>device.1</th>\n",
       "      <th>spent</th>\n",
       "    </tr>\n",
       "  </thead>\n",
       "  <tbody>\n",
       "    <tr>\n",
       "      <th>0</th>\n",
       "      <td>1000000</td>\n",
       "      <td>CAN</td>\n",
       "      <td>M</td>\n",
       "      <td>1000000</td>\n",
       "      <td>B</td>\n",
       "      <td>2023-01-28</td>\n",
       "      <td>I</td>\n",
       "      <td>NaN</td>\n",
       "      <td>NaN</td>\n",
       "      <td>NaN</td>\n",
       "      <td>NaN</td>\n",
       "    </tr>\n",
       "    <tr>\n",
       "      <th>3</th>\n",
       "      <td>1000003</td>\n",
       "      <td>BRA</td>\n",
       "      <td>M</td>\n",
       "      <td>1000003</td>\n",
       "      <td>B</td>\n",
       "      <td>2023-01-25</td>\n",
       "      <td>I</td>\n",
       "      <td>NaN</td>\n",
       "      <td>NaN</td>\n",
       "      <td>NaN</td>\n",
       "      <td>NaN</td>\n",
       "    </tr>\n",
       "    <tr>\n",
       "      <th>5</th>\n",
       "      <td>1000005</td>\n",
       "      <td>GBR</td>\n",
       "      <td>F</td>\n",
       "      <td>1000005</td>\n",
       "      <td>B</td>\n",
       "      <td>2023-01-26</td>\n",
       "      <td>A</td>\n",
       "      <td>NaN</td>\n",
       "      <td>NaN</td>\n",
       "      <td>NaN</td>\n",
       "      <td>NaN</td>\n",
       "    </tr>\n",
       "    <tr>\n",
       "      <th>6</th>\n",
       "      <td>1000006</td>\n",
       "      <td>ESP</td>\n",
       "      <td>M</td>\n",
       "      <td>1000006</td>\n",
       "      <td>B</td>\n",
       "      <td>2023-01-31</td>\n",
       "      <td>A</td>\n",
       "      <td>NaN</td>\n",
       "      <td>NaN</td>\n",
       "      <td>NaN</td>\n",
       "      <td>NaN</td>\n",
       "    </tr>\n",
       "    <tr>\n",
       "      <th>10</th>\n",
       "      <td>1000010</td>\n",
       "      <td>BRA</td>\n",
       "      <td>M</td>\n",
       "      <td>1000010</td>\n",
       "      <td>B</td>\n",
       "      <td>2023-02-01</td>\n",
       "      <td>I</td>\n",
       "      <td>NaN</td>\n",
       "      <td>NaN</td>\n",
       "      <td>NaN</td>\n",
       "      <td>NaN</td>\n",
       "    </tr>\n",
       "    <tr>\n",
       "      <th>...</th>\n",
       "      <td>...</td>\n",
       "      <td>...</td>\n",
       "      <td>...</td>\n",
       "      <td>...</td>\n",
       "      <td>...</td>\n",
       "      <td>...</td>\n",
       "      <td>...</td>\n",
       "      <td>...</td>\n",
       "      <td>...</td>\n",
       "      <td>...</td>\n",
       "      <td>...</td>\n",
       "    </tr>\n",
       "    <tr>\n",
       "      <th>49074</th>\n",
       "      <td>1049992</td>\n",
       "      <td>CAN</td>\n",
       "      <td>M</td>\n",
       "      <td>1049992</td>\n",
       "      <td>B</td>\n",
       "      <td>2023-01-25</td>\n",
       "      <td>I</td>\n",
       "      <td>NaN</td>\n",
       "      <td>NaN</td>\n",
       "      <td>NaN</td>\n",
       "      <td>NaN</td>\n",
       "    </tr>\n",
       "    <tr>\n",
       "      <th>49077</th>\n",
       "      <td>1049995</td>\n",
       "      <td>BRA</td>\n",
       "      <td>F</td>\n",
       "      <td>1049995</td>\n",
       "      <td>B</td>\n",
       "      <td>2023-02-03</td>\n",
       "      <td>A</td>\n",
       "      <td>NaN</td>\n",
       "      <td>NaN</td>\n",
       "      <td>NaN</td>\n",
       "      <td>NaN</td>\n",
       "    </tr>\n",
       "    <tr>\n",
       "      <th>49079</th>\n",
       "      <td>1049997</td>\n",
       "      <td>BRA</td>\n",
       "      <td>M</td>\n",
       "      <td>1049997</td>\n",
       "      <td>B</td>\n",
       "      <td>2023-02-03</td>\n",
       "      <td>A</td>\n",
       "      <td>NaN</td>\n",
       "      <td>NaN</td>\n",
       "      <td>NaN</td>\n",
       "      <td>NaN</td>\n",
       "    </tr>\n",
       "    <tr>\n",
       "      <th>49080</th>\n",
       "      <td>1049998</td>\n",
       "      <td>CAN</td>\n",
       "      <td>M</td>\n",
       "      <td>1049998</td>\n",
       "      <td>B</td>\n",
       "      <td>2023-02-03</td>\n",
       "      <td>I</td>\n",
       "      <td>NaN</td>\n",
       "      <td>NaN</td>\n",
       "      <td>NaN</td>\n",
       "      <td>NaN</td>\n",
       "    </tr>\n",
       "    <tr>\n",
       "      <th>49081</th>\n",
       "      <td>1049999</td>\n",
       "      <td>GBR</td>\n",
       "      <td>M</td>\n",
       "      <td>1049999</td>\n",
       "      <td>B</td>\n",
       "      <td>2023-01-29</td>\n",
       "      <td>I</td>\n",
       "      <td>NaN</td>\n",
       "      <td>NaN</td>\n",
       "      <td>NaN</td>\n",
       "      <td>NaN</td>\n",
       "    </tr>\n",
       "  </tbody>\n",
       "</table>\n",
       "<p>24680 rows × 11 columns</p>\n",
       "</div>"
      ],
      "text/plain": [
       "            id country gender      uid group     join_dt device  uid.1   dt  \\\n",
       "0      1000000     CAN      M  1000000     B  2023-01-28      I    NaN  NaN   \n",
       "3      1000003     BRA      M  1000003     B  2023-01-25      I    NaN  NaN   \n",
       "5      1000005     GBR      F  1000005     B  2023-01-26      A    NaN  NaN   \n",
       "6      1000006     ESP      M  1000006     B  2023-01-31      A    NaN  NaN   \n",
       "10     1000010     BRA      M  1000010     B  2023-02-01      I    NaN  NaN   \n",
       "...        ...     ...    ...      ...   ...         ...    ...    ...  ...   \n",
       "49074  1049992     CAN      M  1049992     B  2023-01-25      I    NaN  NaN   \n",
       "49077  1049995     BRA      F  1049995     B  2023-02-03      A    NaN  NaN   \n",
       "49079  1049997     BRA      M  1049997     B  2023-02-03      A    NaN  NaN   \n",
       "49080  1049998     CAN      M  1049998     B  2023-02-03      I    NaN  NaN   \n",
       "49081  1049999     GBR      M  1049999     B  2023-01-29      I    NaN  NaN   \n",
       "\n",
       "      device.1  spent  \n",
       "0          NaN    NaN  \n",
       "3          NaN    NaN  \n",
       "5          NaN    NaN  \n",
       "6          NaN    NaN  \n",
       "10         NaN    NaN  \n",
       "...        ...    ...  \n",
       "49074      NaN    NaN  \n",
       "49077      NaN    NaN  \n",
       "49079      NaN    NaN  \n",
       "49080      NaN    NaN  \n",
       "49081      NaN    NaN  \n",
       "\n",
       "[24680 rows x 11 columns]"
      ]
     },
     "execution_count": 33,
     "metadata": {},
     "output_type": "execute_result"
    }
   ],
   "source": [
    "treatment_group = df[df['group'] == 'B']\n",
    "treatment_group"
   ]
  },
  {
   "cell_type": "code",
   "execution_count": 34,
   "id": "08e63588",
   "metadata": {},
   "outputs": [
    {
     "data": {
      "text/plain": [
       "3.374518467928841"
      ]
     },
     "execution_count": 34,
     "metadata": {},
     "output_type": "execute_result"
    }
   ],
   "source": [
    "control_spent_per_user = df.loc[df['group'] == 'A', 'spent'].sum() / df.loc[df['group'] == 'A', 'uid'].nunique()\n",
    "treatment_spent_per_user = df.loc[df['group'] == 'B', 'spent'].sum() / df.loc[df['group'] == 'B', 'uid'].nunique()\n",
    "control_spent_per_user"
   ]
  },
  {
   "cell_type": "code",
   "execution_count": 35,
   "id": "14841d68",
   "metadata": {},
   "outputs": [
    {
     "data": {
      "text/plain": [
       "3.3908669458857834"
      ]
     },
     "execution_count": 35,
     "metadata": {},
     "output_type": "execute_result"
    }
   ],
   "source": [
    "treatment_spent_per_user"
   ]
  },
  {
   "cell_type": "code",
   "execution_count": 36,
   "id": "79ba6da8",
   "metadata": {},
   "outputs": [
    {
     "name": "stdout",
     "output_type": "stream",
     "text": [
      "95% confidence interval for the average amount spent per user in the control group: (2.36, 4.39)\n"
     ]
    }
   ],
   "source": [
    "from scipy.stats import t\n",
    "\n",
    "control_spent_per_user = df.loc[df['group'] == 'A', 'spent'].sum() / df.loc[df['group'] == 'A', 'uid'].nunique()\n",
    "control_sample_size = df.loc[df['group'] == 'A', 'uid'].nunique()\n",
    "control_sample_std = df.loc[df['group'] == 'A', 'spent'].std()\n",
    "\n",
    "control_standard_error = control_sample_std / np.sqrt(control_sample_size)\n",
    "\n",
    "confidence_level = 0.95\n",
    "degrees_of_freedom = control_sample_size - 1\n",
    "critical_value = t.ppf(confidence_level, degrees_of_freedom)\n",
    "margin_of_error = critical_value * control_standard_error\n",
    "lower_bound = control_spent_per_user - margin_of_error\n",
    "upper_bound = control_spent_per_user + margin_of_error\n",
    "\n",
    "print(\"95% confidence interval for the average amount spent per user in the control group: ({:.2f}, {:.2f})\".format(lower_bound, upper_bound))\n"
   ]
  },
  {
   "cell_type": "code",
   "execution_count": 37,
   "id": "4c97ff5b",
   "metadata": {},
   "outputs": [
    {
     "name": "stdout",
     "output_type": "stream",
     "text": [
      "95% confidence interval for the average amount spent per user in the treatment group: (2.45, 4.33)\n"
     ]
    }
   ],
   "source": [
    "control_spent_per_user = df.loc[df['group'] == 'B', 'spent'].sum() / df.loc[df['group'] == 'B', 'uid'].nunique()\n",
    "control_sample_size = df.loc[df['group'] == 'B', 'uid'].nunique()\n",
    "control_sample_std = df.loc[df['group'] == 'B', 'spent'].std()\n",
    "\n",
    "control_standard_error = control_sample_std / np.sqrt(control_sample_size)\n",
    "\n",
    "confidence_level = 0.95\n",
    "degrees_of_freedom = control_sample_size - 1\n",
    "critical_value = t.ppf(confidence_level, degrees_of_freedom)\n",
    "margin_of_error = critical_value * control_standard_error\n",
    "lower_bound = control_spent_per_user - margin_of_error\n",
    "upper_bound = control_spent_per_user + margin_of_error\n",
    "\n",
    "print(\"95% confidence interval for the average amount spent per user in the treatment group: ({:.2f}, {:.2f})\".format(lower_bound, upper_bound))"
   ]
  },
  {
   "cell_type": "code",
   "execution_count": 38,
   "id": "e237d285",
   "metadata": {},
   "outputs": [
    {
     "name": "stdout",
     "output_type": "stream",
     "text": [
      "Control group user conversion rate: 3.92%\n",
      "Treatment group user conversion rate: 4.63%\n"
     ]
    }
   ],
   "source": [
    "control_converted = control_group[control_group['spent'] > 0]['id'].nunique()\n",
    "\n",
    "treatment_converted = treatment_group[treatment_group['spent'] > 0]['id'].nunique()\n",
    "\n",
    "control_total = control_group['id'].nunique()\n",
    "\n",
    "treatment_total = treatment_group['id'].nunique()\n",
    "\n",
    "control_conversion_rate = control_converted / control_total\n",
    "\n",
    "treatment_conversion_rate = treatment_converted / treatment_total\n",
    "\n",
    "print(\"Control group user conversion rate: {:.2f}%\".format(control_conversion_rate * 100))\n",
    "print(\"Treatment group user conversion rate: {:.2f}%\".format(treatment_conversion_rate * 100))\n"
   ]
  },
  {
   "cell_type": "code",
   "execution_count": 39,
   "id": "ceac137e",
   "metadata": {},
   "outputs": [
    {
     "name": "stdout",
     "output_type": "stream",
     "text": [
      "95% confidence interval for the conversion rate in the control group: (0.04%, 0.04%)\n"
     ]
    }
   ],
   "source": [
    "import scipy.stats as stats\n",
    "\n",
    "control_converted = control_group[control_group['spent'] > 0]['id'].nunique()\n",
    "\n",
    "control_total = control_group['id'].nunique()\n",
    "\n",
    "control_conversion_rate = control_converted / control_total\n",
    "\n",
    "se = np.sqrt(control_conversion_rate * (1 - control_conversion_rate) / control_total)\n",
    "\n",
    "z = stats.norm.ppf(0.975)\n",
    "me = z * se\n",
    "\n",
    "ci_low = control_conversion_rate - me\n",
    "ci_high = control_conversion_rate + me\n",
    "\n",
    "print(\"95% confidence interval for the conversion rate in the control group: ({:.2f}%, {:.2f}%)\".format(ci_low , ci_high ))\n"
   ]
  },
  {
   "cell_type": "code",
   "execution_count": 40,
   "id": "0e0a02b0",
   "metadata": {},
   "outputs": [
    {
     "name": "stdout",
     "output_type": "stream",
     "text": [
      "95% confidence interval for the conversion rate in the treatment group: (4.37%, 4.89%)\n"
     ]
    }
   ],
   "source": [
    "treatment_converted = treatment_group[treatment_group['spent'] > 0]['id'].nunique()\n",
    "\n",
    "treatment_total = treatment_group['id'].nunique()\n",
    "\n",
    "treatment_conversion_rate = treatment_converted / treatment_total\n",
    "\n",
    "se = np.sqrt(treatment_conversion_rate * (1 - treatment_conversion_rate) / treatment_total)\n",
    "\n",
    "z = stats.norm.ppf(0.975)\n",
    "me = z * se\n",
    "\n",
    "ci_low = treatment_conversion_rate - me\n",
    "ci_high = treatment_conversion_rate + me\n",
    "\n",
    "print(\"95% confidence interval for the conversion rate in the treatment group: ({:.2f}%, {:.2f}%)\".format(ci_low * 100, ci_high * 100))\n"
   ]
  },
  {
   "cell_type": "code",
   "execution_count": 43,
   "id": "45117188",
   "metadata": {},
   "outputs": [
    {
     "name": "stdout",
     "output_type": "stream",
     "text": [
      "Test statistic: 3.86\n",
      "P-value: 0.0001\n",
      "The difference in conversion rates between the treatment and control groups is statistically significant at the 5% level.\n"
     ]
    }
   ],
   "source": [
    "treatment_converted = treatment_group[treatment_group['spent'] > 0]['id'].nunique()\n",
    "\n",
    "treatment_total = treatment_group['id'].nunique()\n",
    "\n",
    "treatment_conversion_rate = treatment_converted / treatment_total\n",
    "\n",
    "control_converted = control_group[control_group['spent'] > 0]['id'].nunique()\n",
    "\n",
    "control_total = control_group['id'].nunique()\n",
    "\n",
    "control_conversion_rate = control_converted / control_total\n",
    "\n",
    "p_pool = (treatment_converted + control_converted) / (treatment_total + control_total)\n",
    "\n",
    "se = np.sqrt(p_pool * (1 - p_pool) * (1/treatment_total + 1/control_total))\n",
    "\n",
    "z = (treatment_conversion_rate - control_conversion_rate) / se\n",
    "\n",
    "p = stats.norm.sf(abs(z)) * 2\n",
    "\n",
    "print(\"Test statistic: {:.2f}\".format(z))\n",
    "print(\"P-value: {:.4f}\".format(p))\n",
    "\n",
    "if p < 0.05:\n",
    "    print(\"The difference in conversion rates between the treatment and control groups is statistically significant at the 5% level.\")\n",
    "else:\n",
    "    print(\"There is not enough evidence to conclude that there is a difference in conversion rates between the treatment and control groups at the 5% level.\")\n"
   ]
  },
  {
   "cell_type": "markdown",
   "id": "b9ddc8a8",
   "metadata": {},
   "source": [
    "Based on the results of the A/B test, which showed a statistically significant difference in conversion rates between the treatment and control groups, it appears that the banner experience had a positive impact on user behavior and increased conversions.\n",
    "\n",
    "Therefore, my recommendation to the stakeholders would be to launch the banner experience to all users on the mobile website. However, it's important to consider the costs and resources required to implement the banner experience, as well as any potential long-term effects on user behavior and engagement.\n",
    "\n",
    "Additionally, it may be worthwhile to conduct further testing and analysis to optimize the banner design and placement, and to ensure that the positive effects on user behavior are sustained over time."
   ]
  },
  {
   "cell_type": "code",
   "execution_count": 59,
   "id": "b198afd5",
   "metadata": {},
   "outputs": [
    {
     "name": "stdout",
     "output_type": "stream",
     "text": [
      "<class 'pandas.core.frame.DataFrame'>\n",
      "RangeIndex: 49082 entries, 0 to 49081\n",
      "Data columns (total 11 columns):\n",
      " #   Column    Non-Null Count  Dtype         \n",
      "---  ------    --------------  -----         \n",
      " 0   id        49082 non-null  int64         \n",
      " 1   country   48435 non-null  object        \n",
      " 2   gender    42200 non-null  object        \n",
      " 3   uid       49082 non-null  int64         \n",
      " 4   group     49082 non-null  object        \n",
      " 5   join_dt   49082 non-null  datetime64[ns]\n",
      " 6   device    48787 non-null  object        \n",
      " 7   uid.1     2233 non-null   float64       \n",
      " 8   dt        2233 non-null   datetime64[ns]\n",
      " 9   device.1  2223 non-null   object        \n",
      " 10  spent     2233 non-null   float64       \n",
      "dtypes: datetime64[ns](2), float64(2), int64(2), object(5)\n",
      "memory usage: 4.1+ MB\n"
     ]
    }
   ],
   "source": [
    "import datetime \n",
    "import datetime as dt\n",
    "df['dt'] = pd.to_datetime(df['dt'])\n",
    "df['join_dt'] = pd.to_datetime(df['join_dt'])\n",
    "df.info()"
   ]
  },
  {
   "cell_type": "code",
   "execution_count": 60,
   "id": "da81dcf0",
   "metadata": {},
   "outputs": [
    {
     "name": "stdout",
     "output_type": "stream",
     "text": [
      "2023-01-25 00:00:00\n",
      "2023-02-06 00:00:00\n"
     ]
    },
    {
     "data": {
      "text/plain": [
       "Timedelta('12 days 00:00:00')"
      ]
     },
     "execution_count": 60,
     "metadata": {},
     "output_type": "execute_result"
    }
   ],
   "source": [
    "# Join_dt-the date the user joined the test.check A/B test time\n",
    "print(df['join_dt'].min())\n",
    "print(df['join_dt'].max())\n",
    "df.join_dt.max() - df.join_dt.min()"
   ]
  },
  {
   "cell_type": "code",
   "execution_count": 61,
   "id": "10c8255c",
   "metadata": {},
   "outputs": [
    {
     "name": "stdout",
     "output_type": "stream",
     "text": [
      "2023-01-25 00:00:00\n",
      "2023-02-06 00:00:00\n"
     ]
    },
    {
     "data": {
      "text/plain": [
       "Timedelta('12 days 00:00:00')"
      ]
     },
     "execution_count": 61,
     "metadata": {},
     "output_type": "execute_result"
    }
   ],
   "source": [
    "print(df['dt'].min())\n",
    "print(df['dt'].max())\n",
    "df.dt.max() - df.dt.min()"
   ]
  },
  {
   "cell_type": "code",
   "execution_count": 67,
   "id": "bc53880d",
   "metadata": {},
   "outputs": [
    {
     "data": {
      "application/vnd.plotly.v1+json": {
       "config": {
        "plotlyServerURL": "https://plot.ly"
       },
       "data": [
        {
         "hovertemplate": "dt=%{x}<br>id=%{y}<extra></extra>",
         "legendgroup": "",
         "line": {
          "color": "#636efa",
          "dash": "solid"
         },
         "marker": {
          "symbol": "circle"
         },
         "mode": "lines",
         "name": "",
         "orientation": "v",
         "showlegend": false,
         "type": "scatter",
         "x": [
          "2023-01-25",
          "2023-01-26",
          "2023-01-27",
          "2023-01-28",
          "2023-01-29",
          "2023-01-30",
          "2023-01-31",
          "2023-02-01",
          "2023-02-02",
          "2023-02-03",
          "2023-02-04",
          "2023-02-05",
          "2023-02-06"
         ],
         "xaxis": "x",
         "y": [
          385,
          315,
          263,
          213,
          167,
          162,
          158,
          119,
          92,
          95,
          86,
          81,
          97
         ],
         "yaxis": "y"
        }
       ],
       "layout": {
        "legend": {
         "tracegroupgap": 0
        },
        "template": {
         "data": {
          "bar": [
           {
            "error_x": {
             "color": "#2a3f5f"
            },
            "error_y": {
             "color": "#2a3f5f"
            },
            "marker": {
             "line": {
              "color": "#E5ECF6",
              "width": 0.5
             },
             "pattern": {
              "fillmode": "overlay",
              "size": 10,
              "solidity": 0.2
             }
            },
            "type": "bar"
           }
          ],
          "barpolar": [
           {
            "marker": {
             "line": {
              "color": "#E5ECF6",
              "width": 0.5
             },
             "pattern": {
              "fillmode": "overlay",
              "size": 10,
              "solidity": 0.2
             }
            },
            "type": "barpolar"
           }
          ],
          "carpet": [
           {
            "aaxis": {
             "endlinecolor": "#2a3f5f",
             "gridcolor": "white",
             "linecolor": "white",
             "minorgridcolor": "white",
             "startlinecolor": "#2a3f5f"
            },
            "baxis": {
             "endlinecolor": "#2a3f5f",
             "gridcolor": "white",
             "linecolor": "white",
             "minorgridcolor": "white",
             "startlinecolor": "#2a3f5f"
            },
            "type": "carpet"
           }
          ],
          "choropleth": [
           {
            "colorbar": {
             "outlinewidth": 0,
             "ticks": ""
            },
            "type": "choropleth"
           }
          ],
          "contour": [
           {
            "colorbar": {
             "outlinewidth": 0,
             "ticks": ""
            },
            "colorscale": [
             [
              0,
              "#0d0887"
             ],
             [
              0.1111111111111111,
              "#46039f"
             ],
             [
              0.2222222222222222,
              "#7201a8"
             ],
             [
              0.3333333333333333,
              "#9c179e"
             ],
             [
              0.4444444444444444,
              "#bd3786"
             ],
             [
              0.5555555555555556,
              "#d8576b"
             ],
             [
              0.6666666666666666,
              "#ed7953"
             ],
             [
              0.7777777777777778,
              "#fb9f3a"
             ],
             [
              0.8888888888888888,
              "#fdca26"
             ],
             [
              1,
              "#f0f921"
             ]
            ],
            "type": "contour"
           }
          ],
          "contourcarpet": [
           {
            "colorbar": {
             "outlinewidth": 0,
             "ticks": ""
            },
            "type": "contourcarpet"
           }
          ],
          "heatmap": [
           {
            "colorbar": {
             "outlinewidth": 0,
             "ticks": ""
            },
            "colorscale": [
             [
              0,
              "#0d0887"
             ],
             [
              0.1111111111111111,
              "#46039f"
             ],
             [
              0.2222222222222222,
              "#7201a8"
             ],
             [
              0.3333333333333333,
              "#9c179e"
             ],
             [
              0.4444444444444444,
              "#bd3786"
             ],
             [
              0.5555555555555556,
              "#d8576b"
             ],
             [
              0.6666666666666666,
              "#ed7953"
             ],
             [
              0.7777777777777778,
              "#fb9f3a"
             ],
             [
              0.8888888888888888,
              "#fdca26"
             ],
             [
              1,
              "#f0f921"
             ]
            ],
            "type": "heatmap"
           }
          ],
          "heatmapgl": [
           {
            "colorbar": {
             "outlinewidth": 0,
             "ticks": ""
            },
            "colorscale": [
             [
              0,
              "#0d0887"
             ],
             [
              0.1111111111111111,
              "#46039f"
             ],
             [
              0.2222222222222222,
              "#7201a8"
             ],
             [
              0.3333333333333333,
              "#9c179e"
             ],
             [
              0.4444444444444444,
              "#bd3786"
             ],
             [
              0.5555555555555556,
              "#d8576b"
             ],
             [
              0.6666666666666666,
              "#ed7953"
             ],
             [
              0.7777777777777778,
              "#fb9f3a"
             ],
             [
              0.8888888888888888,
              "#fdca26"
             ],
             [
              1,
              "#f0f921"
             ]
            ],
            "type": "heatmapgl"
           }
          ],
          "histogram": [
           {
            "marker": {
             "pattern": {
              "fillmode": "overlay",
              "size": 10,
              "solidity": 0.2
             }
            },
            "type": "histogram"
           }
          ],
          "histogram2d": [
           {
            "colorbar": {
             "outlinewidth": 0,
             "ticks": ""
            },
            "colorscale": [
             [
              0,
              "#0d0887"
             ],
             [
              0.1111111111111111,
              "#46039f"
             ],
             [
              0.2222222222222222,
              "#7201a8"
             ],
             [
              0.3333333333333333,
              "#9c179e"
             ],
             [
              0.4444444444444444,
              "#bd3786"
             ],
             [
              0.5555555555555556,
              "#d8576b"
             ],
             [
              0.6666666666666666,
              "#ed7953"
             ],
             [
              0.7777777777777778,
              "#fb9f3a"
             ],
             [
              0.8888888888888888,
              "#fdca26"
             ],
             [
              1,
              "#f0f921"
             ]
            ],
            "type": "histogram2d"
           }
          ],
          "histogram2dcontour": [
           {
            "colorbar": {
             "outlinewidth": 0,
             "ticks": ""
            },
            "colorscale": [
             [
              0,
              "#0d0887"
             ],
             [
              0.1111111111111111,
              "#46039f"
             ],
             [
              0.2222222222222222,
              "#7201a8"
             ],
             [
              0.3333333333333333,
              "#9c179e"
             ],
             [
              0.4444444444444444,
              "#bd3786"
             ],
             [
              0.5555555555555556,
              "#d8576b"
             ],
             [
              0.6666666666666666,
              "#ed7953"
             ],
             [
              0.7777777777777778,
              "#fb9f3a"
             ],
             [
              0.8888888888888888,
              "#fdca26"
             ],
             [
              1,
              "#f0f921"
             ]
            ],
            "type": "histogram2dcontour"
           }
          ],
          "mesh3d": [
           {
            "colorbar": {
             "outlinewidth": 0,
             "ticks": ""
            },
            "type": "mesh3d"
           }
          ],
          "parcoords": [
           {
            "line": {
             "colorbar": {
              "outlinewidth": 0,
              "ticks": ""
             }
            },
            "type": "parcoords"
           }
          ],
          "pie": [
           {
            "automargin": true,
            "type": "pie"
           }
          ],
          "scatter": [
           {
            "marker": {
             "colorbar": {
              "outlinewidth": 0,
              "ticks": ""
             }
            },
            "type": "scatter"
           }
          ],
          "scatter3d": [
           {
            "line": {
             "colorbar": {
              "outlinewidth": 0,
              "ticks": ""
             }
            },
            "marker": {
             "colorbar": {
              "outlinewidth": 0,
              "ticks": ""
             }
            },
            "type": "scatter3d"
           }
          ],
          "scattercarpet": [
           {
            "marker": {
             "colorbar": {
              "outlinewidth": 0,
              "ticks": ""
             }
            },
            "type": "scattercarpet"
           }
          ],
          "scattergeo": [
           {
            "marker": {
             "colorbar": {
              "outlinewidth": 0,
              "ticks": ""
             }
            },
            "type": "scattergeo"
           }
          ],
          "scattergl": [
           {
            "marker": {
             "colorbar": {
              "outlinewidth": 0,
              "ticks": ""
             }
            },
            "type": "scattergl"
           }
          ],
          "scattermapbox": [
           {
            "marker": {
             "colorbar": {
              "outlinewidth": 0,
              "ticks": ""
             }
            },
            "type": "scattermapbox"
           }
          ],
          "scatterpolar": [
           {
            "marker": {
             "colorbar": {
              "outlinewidth": 0,
              "ticks": ""
             }
            },
            "type": "scatterpolar"
           }
          ],
          "scatterpolargl": [
           {
            "marker": {
             "colorbar": {
              "outlinewidth": 0,
              "ticks": ""
             }
            },
            "type": "scatterpolargl"
           }
          ],
          "scatterternary": [
           {
            "marker": {
             "colorbar": {
              "outlinewidth": 0,
              "ticks": ""
             }
            },
            "type": "scatterternary"
           }
          ],
          "surface": [
           {
            "colorbar": {
             "outlinewidth": 0,
             "ticks": ""
            },
            "colorscale": [
             [
              0,
              "#0d0887"
             ],
             [
              0.1111111111111111,
              "#46039f"
             ],
             [
              0.2222222222222222,
              "#7201a8"
             ],
             [
              0.3333333333333333,
              "#9c179e"
             ],
             [
              0.4444444444444444,
              "#bd3786"
             ],
             [
              0.5555555555555556,
              "#d8576b"
             ],
             [
              0.6666666666666666,
              "#ed7953"
             ],
             [
              0.7777777777777778,
              "#fb9f3a"
             ],
             [
              0.8888888888888888,
              "#fdca26"
             ],
             [
              1,
              "#f0f921"
             ]
            ],
            "type": "surface"
           }
          ],
          "table": [
           {
            "cells": {
             "fill": {
              "color": "#EBF0F8"
             },
             "line": {
              "color": "white"
             }
            },
            "header": {
             "fill": {
              "color": "#C8D4E3"
             },
             "line": {
              "color": "white"
             }
            },
            "type": "table"
           }
          ]
         },
         "layout": {
          "annotationdefaults": {
           "arrowcolor": "#2a3f5f",
           "arrowhead": 0,
           "arrowwidth": 1
          },
          "autotypenumbers": "strict",
          "coloraxis": {
           "colorbar": {
            "outlinewidth": 0,
            "ticks": ""
           }
          },
          "colorscale": {
           "diverging": [
            [
             0,
             "#8e0152"
            ],
            [
             0.1,
             "#c51b7d"
            ],
            [
             0.2,
             "#de77ae"
            ],
            [
             0.3,
             "#f1b6da"
            ],
            [
             0.4,
             "#fde0ef"
            ],
            [
             0.5,
             "#f7f7f7"
            ],
            [
             0.6,
             "#e6f5d0"
            ],
            [
             0.7,
             "#b8e186"
            ],
            [
             0.8,
             "#7fbc41"
            ],
            [
             0.9,
             "#4d9221"
            ],
            [
             1,
             "#276419"
            ]
           ],
           "sequential": [
            [
             0,
             "#0d0887"
            ],
            [
             0.1111111111111111,
             "#46039f"
            ],
            [
             0.2222222222222222,
             "#7201a8"
            ],
            [
             0.3333333333333333,
             "#9c179e"
            ],
            [
             0.4444444444444444,
             "#bd3786"
            ],
            [
             0.5555555555555556,
             "#d8576b"
            ],
            [
             0.6666666666666666,
             "#ed7953"
            ],
            [
             0.7777777777777778,
             "#fb9f3a"
            ],
            [
             0.8888888888888888,
             "#fdca26"
            ],
            [
             1,
             "#f0f921"
            ]
           ],
           "sequentialminus": [
            [
             0,
             "#0d0887"
            ],
            [
             0.1111111111111111,
             "#46039f"
            ],
            [
             0.2222222222222222,
             "#7201a8"
            ],
            [
             0.3333333333333333,
             "#9c179e"
            ],
            [
             0.4444444444444444,
             "#bd3786"
            ],
            [
             0.5555555555555556,
             "#d8576b"
            ],
            [
             0.6666666666666666,
             "#ed7953"
            ],
            [
             0.7777777777777778,
             "#fb9f3a"
            ],
            [
             0.8888888888888888,
             "#fdca26"
            ],
            [
             1,
             "#f0f921"
            ]
           ]
          },
          "colorway": [
           "#636efa",
           "#EF553B",
           "#00cc96",
           "#ab63fa",
           "#FFA15A",
           "#19d3f3",
           "#FF6692",
           "#B6E880",
           "#FF97FF",
           "#FECB52"
          ],
          "font": {
           "color": "#2a3f5f"
          },
          "geo": {
           "bgcolor": "white",
           "lakecolor": "white",
           "landcolor": "#E5ECF6",
           "showlakes": true,
           "showland": true,
           "subunitcolor": "white"
          },
          "hoverlabel": {
           "align": "left"
          },
          "hovermode": "closest",
          "mapbox": {
           "style": "light"
          },
          "paper_bgcolor": "white",
          "plot_bgcolor": "#E5ECF6",
          "polar": {
           "angularaxis": {
            "gridcolor": "white",
            "linecolor": "white",
            "ticks": ""
           },
           "bgcolor": "#E5ECF6",
           "radialaxis": {
            "gridcolor": "white",
            "linecolor": "white",
            "ticks": ""
           }
          },
          "scene": {
           "xaxis": {
            "backgroundcolor": "#E5ECF6",
            "gridcolor": "white",
            "gridwidth": 2,
            "linecolor": "white",
            "showbackground": true,
            "ticks": "",
            "zerolinecolor": "white"
           },
           "yaxis": {
            "backgroundcolor": "#E5ECF6",
            "gridcolor": "white",
            "gridwidth": 2,
            "linecolor": "white",
            "showbackground": true,
            "ticks": "",
            "zerolinecolor": "white"
           },
           "zaxis": {
            "backgroundcolor": "#E5ECF6",
            "gridcolor": "white",
            "gridwidth": 2,
            "linecolor": "white",
            "showbackground": true,
            "ticks": "",
            "zerolinecolor": "white"
           }
          },
          "shapedefaults": {
           "line": {
            "color": "#2a3f5f"
           }
          },
          "ternary": {
           "aaxis": {
            "gridcolor": "white",
            "linecolor": "white",
            "ticks": ""
           },
           "baxis": {
            "gridcolor": "white",
            "linecolor": "white",
            "ticks": ""
           },
           "bgcolor": "#E5ECF6",
           "caxis": {
            "gridcolor": "white",
            "linecolor": "white",
            "ticks": ""
           }
          },
          "title": {
           "x": 0.05
          },
          "xaxis": {
           "automargin": true,
           "gridcolor": "white",
           "linecolor": "white",
           "ticks": "",
           "title": {
            "standoff": 15
           },
           "zerolinecolor": "white",
           "zerolinewidth": 2
          },
          "yaxis": {
           "automargin": true,
           "gridcolor": "white",
           "linecolor": "white",
           "ticks": "",
           "title": {
            "standoff": 15
           },
           "zerolinecolor": "white",
           "zerolinewidth": 2
          }
         }
        },
        "title": {
         "text": "DAU"
        },
        "xaxis": {
         "anchor": "y",
         "domain": [
          0,
          1
         ],
         "title": {
          "text": "dt"
         }
        },
        "yaxis": {
         "anchor": "x",
         "domain": [
          0,
          1
         ],
         "title": {
          "text": "id"
         }
        }
       }
      },
      "text/html": [
       "<div>                            <div id=\"069501e9-9206-4ef7-8438-260228f459c6\" class=\"plotly-graph-div\" style=\"height:525px; width:100%;\"></div>            <script type=\"text/javascript\">                require([\"plotly\"], function(Plotly) {                    window.PLOTLYENV=window.PLOTLYENV || {};                                    if (document.getElementById(\"069501e9-9206-4ef7-8438-260228f459c6\")) {                    Plotly.newPlot(                        \"069501e9-9206-4ef7-8438-260228f459c6\",                        [{\"hovertemplate\":\"dt=%{x}<br>id=%{y}<extra></extra>\",\"legendgroup\":\"\",\"line\":{\"color\":\"#636efa\",\"dash\":\"solid\"},\"marker\":{\"symbol\":\"circle\"},\"mode\":\"lines\",\"name\":\"\",\"orientation\":\"v\",\"showlegend\":false,\"x\":[\"2023-01-25\",\"2023-01-26\",\"2023-01-27\",\"2023-01-28\",\"2023-01-29\",\"2023-01-30\",\"2023-01-31\",\"2023-02-01\",\"2023-02-02\",\"2023-02-03\",\"2023-02-04\",\"2023-02-05\",\"2023-02-06\"],\"xaxis\":\"x\",\"y\":[385,315,263,213,167,162,158,119,92,95,86,81,97],\"yaxis\":\"y\",\"type\":\"scatter\"}],                        {\"template\":{\"data\":{\"bar\":[{\"error_x\":{\"color\":\"#2a3f5f\"},\"error_y\":{\"color\":\"#2a3f5f\"},\"marker\":{\"line\":{\"color\":\"#E5ECF6\",\"width\":0.5},\"pattern\":{\"fillmode\":\"overlay\",\"size\":10,\"solidity\":0.2}},\"type\":\"bar\"}],\"barpolar\":[{\"marker\":{\"line\":{\"color\":\"#E5ECF6\",\"width\":0.5},\"pattern\":{\"fillmode\":\"overlay\",\"size\":10,\"solidity\":0.2}},\"type\":\"barpolar\"}],\"carpet\":[{\"aaxis\":{\"endlinecolor\":\"#2a3f5f\",\"gridcolor\":\"white\",\"linecolor\":\"white\",\"minorgridcolor\":\"white\",\"startlinecolor\":\"#2a3f5f\"},\"baxis\":{\"endlinecolor\":\"#2a3f5f\",\"gridcolor\":\"white\",\"linecolor\":\"white\",\"minorgridcolor\":\"white\",\"startlinecolor\":\"#2a3f5f\"},\"type\":\"carpet\"}],\"choropleth\":[{\"colorbar\":{\"outlinewidth\":0,\"ticks\":\"\"},\"type\":\"choropleth\"}],\"contour\":[{\"colorbar\":{\"outlinewidth\":0,\"ticks\":\"\"},\"colorscale\":[[0.0,\"#0d0887\"],[0.1111111111111111,\"#46039f\"],[0.2222222222222222,\"#7201a8\"],[0.3333333333333333,\"#9c179e\"],[0.4444444444444444,\"#bd3786\"],[0.5555555555555556,\"#d8576b\"],[0.6666666666666666,\"#ed7953\"],[0.7777777777777778,\"#fb9f3a\"],[0.8888888888888888,\"#fdca26\"],[1.0,\"#f0f921\"]],\"type\":\"contour\"}],\"contourcarpet\":[{\"colorbar\":{\"outlinewidth\":0,\"ticks\":\"\"},\"type\":\"contourcarpet\"}],\"heatmap\":[{\"colorbar\":{\"outlinewidth\":0,\"ticks\":\"\"},\"colorscale\":[[0.0,\"#0d0887\"],[0.1111111111111111,\"#46039f\"],[0.2222222222222222,\"#7201a8\"],[0.3333333333333333,\"#9c179e\"],[0.4444444444444444,\"#bd3786\"],[0.5555555555555556,\"#d8576b\"],[0.6666666666666666,\"#ed7953\"],[0.7777777777777778,\"#fb9f3a\"],[0.8888888888888888,\"#fdca26\"],[1.0,\"#f0f921\"]],\"type\":\"heatmap\"}],\"heatmapgl\":[{\"colorbar\":{\"outlinewidth\":0,\"ticks\":\"\"},\"colorscale\":[[0.0,\"#0d0887\"],[0.1111111111111111,\"#46039f\"],[0.2222222222222222,\"#7201a8\"],[0.3333333333333333,\"#9c179e\"],[0.4444444444444444,\"#bd3786\"],[0.5555555555555556,\"#d8576b\"],[0.6666666666666666,\"#ed7953\"],[0.7777777777777778,\"#fb9f3a\"],[0.8888888888888888,\"#fdca26\"],[1.0,\"#f0f921\"]],\"type\":\"heatmapgl\"}],\"histogram\":[{\"marker\":{\"pattern\":{\"fillmode\":\"overlay\",\"size\":10,\"solidity\":0.2}},\"type\":\"histogram\"}],\"histogram2d\":[{\"colorbar\":{\"outlinewidth\":0,\"ticks\":\"\"},\"colorscale\":[[0.0,\"#0d0887\"],[0.1111111111111111,\"#46039f\"],[0.2222222222222222,\"#7201a8\"],[0.3333333333333333,\"#9c179e\"],[0.4444444444444444,\"#bd3786\"],[0.5555555555555556,\"#d8576b\"],[0.6666666666666666,\"#ed7953\"],[0.7777777777777778,\"#fb9f3a\"],[0.8888888888888888,\"#fdca26\"],[1.0,\"#f0f921\"]],\"type\":\"histogram2d\"}],\"histogram2dcontour\":[{\"colorbar\":{\"outlinewidth\":0,\"ticks\":\"\"},\"colorscale\":[[0.0,\"#0d0887\"],[0.1111111111111111,\"#46039f\"],[0.2222222222222222,\"#7201a8\"],[0.3333333333333333,\"#9c179e\"],[0.4444444444444444,\"#bd3786\"],[0.5555555555555556,\"#d8576b\"],[0.6666666666666666,\"#ed7953\"],[0.7777777777777778,\"#fb9f3a\"],[0.8888888888888888,\"#fdca26\"],[1.0,\"#f0f921\"]],\"type\":\"histogram2dcontour\"}],\"mesh3d\":[{\"colorbar\":{\"outlinewidth\":0,\"ticks\":\"\"},\"type\":\"mesh3d\"}],\"parcoords\":[{\"line\":{\"colorbar\":{\"outlinewidth\":0,\"ticks\":\"\"}},\"type\":\"parcoords\"}],\"pie\":[{\"automargin\":true,\"type\":\"pie\"}],\"scatter\":[{\"marker\":{\"colorbar\":{\"outlinewidth\":0,\"ticks\":\"\"}},\"type\":\"scatter\"}],\"scatter3d\":[{\"line\":{\"colorbar\":{\"outlinewidth\":0,\"ticks\":\"\"}},\"marker\":{\"colorbar\":{\"outlinewidth\":0,\"ticks\":\"\"}},\"type\":\"scatter3d\"}],\"scattercarpet\":[{\"marker\":{\"colorbar\":{\"outlinewidth\":0,\"ticks\":\"\"}},\"type\":\"scattercarpet\"}],\"scattergeo\":[{\"marker\":{\"colorbar\":{\"outlinewidth\":0,\"ticks\":\"\"}},\"type\":\"scattergeo\"}],\"scattergl\":[{\"marker\":{\"colorbar\":{\"outlinewidth\":0,\"ticks\":\"\"}},\"type\":\"scattergl\"}],\"scattermapbox\":[{\"marker\":{\"colorbar\":{\"outlinewidth\":0,\"ticks\":\"\"}},\"type\":\"scattermapbox\"}],\"scatterpolar\":[{\"marker\":{\"colorbar\":{\"outlinewidth\":0,\"ticks\":\"\"}},\"type\":\"scatterpolar\"}],\"scatterpolargl\":[{\"marker\":{\"colorbar\":{\"outlinewidth\":0,\"ticks\":\"\"}},\"type\":\"scatterpolargl\"}],\"scatterternary\":[{\"marker\":{\"colorbar\":{\"outlinewidth\":0,\"ticks\":\"\"}},\"type\":\"scatterternary\"}],\"surface\":[{\"colorbar\":{\"outlinewidth\":0,\"ticks\":\"\"},\"colorscale\":[[0.0,\"#0d0887\"],[0.1111111111111111,\"#46039f\"],[0.2222222222222222,\"#7201a8\"],[0.3333333333333333,\"#9c179e\"],[0.4444444444444444,\"#bd3786\"],[0.5555555555555556,\"#d8576b\"],[0.6666666666666666,\"#ed7953\"],[0.7777777777777778,\"#fb9f3a\"],[0.8888888888888888,\"#fdca26\"],[1.0,\"#f0f921\"]],\"type\":\"surface\"}],\"table\":[{\"cells\":{\"fill\":{\"color\":\"#EBF0F8\"},\"line\":{\"color\":\"white\"}},\"header\":{\"fill\":{\"color\":\"#C8D4E3\"},\"line\":{\"color\":\"white\"}},\"type\":\"table\"}]},\"layout\":{\"annotationdefaults\":{\"arrowcolor\":\"#2a3f5f\",\"arrowhead\":0,\"arrowwidth\":1},\"autotypenumbers\":\"strict\",\"coloraxis\":{\"colorbar\":{\"outlinewidth\":0,\"ticks\":\"\"}},\"colorscale\":{\"diverging\":[[0,\"#8e0152\"],[0.1,\"#c51b7d\"],[0.2,\"#de77ae\"],[0.3,\"#f1b6da\"],[0.4,\"#fde0ef\"],[0.5,\"#f7f7f7\"],[0.6,\"#e6f5d0\"],[0.7,\"#b8e186\"],[0.8,\"#7fbc41\"],[0.9,\"#4d9221\"],[1,\"#276419\"]],\"sequential\":[[0.0,\"#0d0887\"],[0.1111111111111111,\"#46039f\"],[0.2222222222222222,\"#7201a8\"],[0.3333333333333333,\"#9c179e\"],[0.4444444444444444,\"#bd3786\"],[0.5555555555555556,\"#d8576b\"],[0.6666666666666666,\"#ed7953\"],[0.7777777777777778,\"#fb9f3a\"],[0.8888888888888888,\"#fdca26\"],[1.0,\"#f0f921\"]],\"sequentialminus\":[[0.0,\"#0d0887\"],[0.1111111111111111,\"#46039f\"],[0.2222222222222222,\"#7201a8\"],[0.3333333333333333,\"#9c179e\"],[0.4444444444444444,\"#bd3786\"],[0.5555555555555556,\"#d8576b\"],[0.6666666666666666,\"#ed7953\"],[0.7777777777777778,\"#fb9f3a\"],[0.8888888888888888,\"#fdca26\"],[1.0,\"#f0f921\"]]},\"colorway\":[\"#636efa\",\"#EF553B\",\"#00cc96\",\"#ab63fa\",\"#FFA15A\",\"#19d3f3\",\"#FF6692\",\"#B6E880\",\"#FF97FF\",\"#FECB52\"],\"font\":{\"color\":\"#2a3f5f\"},\"geo\":{\"bgcolor\":\"white\",\"lakecolor\":\"white\",\"landcolor\":\"#E5ECF6\",\"showlakes\":true,\"showland\":true,\"subunitcolor\":\"white\"},\"hoverlabel\":{\"align\":\"left\"},\"hovermode\":\"closest\",\"mapbox\":{\"style\":\"light\"},\"paper_bgcolor\":\"white\",\"plot_bgcolor\":\"#E5ECF6\",\"polar\":{\"angularaxis\":{\"gridcolor\":\"white\",\"linecolor\":\"white\",\"ticks\":\"\"},\"bgcolor\":\"#E5ECF6\",\"radialaxis\":{\"gridcolor\":\"white\",\"linecolor\":\"white\",\"ticks\":\"\"}},\"scene\":{\"xaxis\":{\"backgroundcolor\":\"#E5ECF6\",\"gridcolor\":\"white\",\"gridwidth\":2,\"linecolor\":\"white\",\"showbackground\":true,\"ticks\":\"\",\"zerolinecolor\":\"white\"},\"yaxis\":{\"backgroundcolor\":\"#E5ECF6\",\"gridcolor\":\"white\",\"gridwidth\":2,\"linecolor\":\"white\",\"showbackground\":true,\"ticks\":\"\",\"zerolinecolor\":\"white\"},\"zaxis\":{\"backgroundcolor\":\"#E5ECF6\",\"gridcolor\":\"white\",\"gridwidth\":2,\"linecolor\":\"white\",\"showbackground\":true,\"ticks\":\"\",\"zerolinecolor\":\"white\"}},\"shapedefaults\":{\"line\":{\"color\":\"#2a3f5f\"}},\"ternary\":{\"aaxis\":{\"gridcolor\":\"white\",\"linecolor\":\"white\",\"ticks\":\"\"},\"baxis\":{\"gridcolor\":\"white\",\"linecolor\":\"white\",\"ticks\":\"\"},\"bgcolor\":\"#E5ECF6\",\"caxis\":{\"gridcolor\":\"white\",\"linecolor\":\"white\",\"ticks\":\"\"}},\"title\":{\"x\":0.05},\"xaxis\":{\"automargin\":true,\"gridcolor\":\"white\",\"linecolor\":\"white\",\"ticks\":\"\",\"title\":{\"standoff\":15},\"zerolinecolor\":\"white\",\"zerolinewidth\":2},\"yaxis\":{\"automargin\":true,\"gridcolor\":\"white\",\"linecolor\":\"white\",\"ticks\":\"\",\"title\":{\"standoff\":15},\"zerolinecolor\":\"white\",\"zerolinewidth\":2}}},\"xaxis\":{\"anchor\":\"y\",\"domain\":[0.0,1.0],\"title\":{\"text\":\"dt\"}},\"yaxis\":{\"anchor\":\"x\",\"domain\":[0.0,1.0],\"title\":{\"text\":\"id\"}},\"legend\":{\"tracegroupgap\":0},\"title\":{\"text\":\"DAU\"}},                        {\"responsive\": true}                    ).then(function(){\n",
       "                            \n",
       "var gd = document.getElementById('069501e9-9206-4ef7-8438-260228f459c6');\n",
       "var x = new MutationObserver(function (mutations, observer) {{\n",
       "        var display = window.getComputedStyle(gd).display;\n",
       "        if (!display || display === 'none') {{\n",
       "            console.log([gd, 'removed!']);\n",
       "            Plotly.purge(gd);\n",
       "            observer.disconnect();\n",
       "        }}\n",
       "}});\n",
       "\n",
       "// Listen for the removal of the full notebook cells\n",
       "var notebookContainer = gd.closest('#notebook-container');\n",
       "if (notebookContainer) {{\n",
       "    x.observe(notebookContainer, {childList: true});\n",
       "}}\n",
       "\n",
       "// Listen for the clearing of the current output cell\n",
       "var outputEl = gd.closest('.output');\n",
       "if (outputEl) {{\n",
       "    x.observe(outputEl, {childList: true});\n",
       "}}\n",
       "\n",
       "                        })                };                });            </script>        </div>"
      ]
     },
     "metadata": {},
     "output_type": "display_data"
    }
   ],
   "source": [
    "# Day purchase activity users \n",
    "fig = px.line(df.groupby(df['dt'].dt.date)['id'].nunique().reset_index(),\n",
    "              x=\"dt\", y=\"id\", title='DAU')\n",
    "fig.show()\n"
   ]
  },
  {
   "cell_type": "code",
   "execution_count": 69,
   "id": "bb6db58e",
   "metadata": {},
   "outputs": [
    {
     "data": {
      "text/html": [
       "<div>\n",
       "<style scoped>\n",
       "    .dataframe tbody tr th:only-of-type {\n",
       "        vertical-align: middle;\n",
       "    }\n",
       "\n",
       "    .dataframe tbody tr th {\n",
       "        vertical-align: top;\n",
       "    }\n",
       "\n",
       "    .dataframe thead th {\n",
       "        text-align: right;\n",
       "    }\n",
       "</style>\n",
       "<table border=\"1\" class=\"dataframe\">\n",
       "  <thead>\n",
       "    <tr style=\"text-align: right;\">\n",
       "      <th></th>\n",
       "      <th>dt</th>\n",
       "      <th>id</th>\n",
       "    </tr>\n",
       "  </thead>\n",
       "  <tbody>\n",
       "    <tr>\n",
       "      <th>0</th>\n",
       "      <td>2023-01-25</td>\n",
       "      <td>385</td>\n",
       "    </tr>\n",
       "    <tr>\n",
       "      <th>1</th>\n",
       "      <td>2023-01-26</td>\n",
       "      <td>315</td>\n",
       "    </tr>\n",
       "    <tr>\n",
       "      <th>2</th>\n",
       "      <td>2023-01-27</td>\n",
       "      <td>263</td>\n",
       "    </tr>\n",
       "    <tr>\n",
       "      <th>3</th>\n",
       "      <td>2023-01-28</td>\n",
       "      <td>213</td>\n",
       "    </tr>\n",
       "    <tr>\n",
       "      <th>4</th>\n",
       "      <td>2023-01-29</td>\n",
       "      <td>167</td>\n",
       "    </tr>\n",
       "  </tbody>\n",
       "</table>\n",
       "</div>"
      ],
      "text/plain": [
       "          dt   id\n",
       "0 2023-01-25  385\n",
       "1 2023-01-26  315\n",
       "2 2023-01-27  263\n",
       "3 2023-01-28  213\n",
       "4 2023-01-29  167"
      ]
     },
     "execution_count": 69,
     "metadata": {},
     "output_type": "execute_result"
    }
   ],
   "source": [
    "dau=df.groupby(df['dt'])['id'].nunique().reset_index()\n",
    "dau.head()"
   ]
  },
  {
   "cell_type": "code",
   "execution_count": 76,
   "id": "8ae24feb",
   "metadata": {},
   "outputs": [
    {
     "data": {
      "text/html": [
       "<div>\n",
       "<style scoped>\n",
       "    .dataframe tbody tr th:only-of-type {\n",
       "        vertical-align: middle;\n",
       "    }\n",
       "\n",
       "    .dataframe tbody tr th {\n",
       "        vertical-align: top;\n",
       "    }\n",
       "\n",
       "    .dataframe thead th {\n",
       "        text-align: right;\n",
       "    }\n",
       "</style>\n",
       "<table border=\"1\" class=\"dataframe\">\n",
       "  <thead>\n",
       "    <tr style=\"text-align: right;\">\n",
       "      <th></th>\n",
       "      <th>gender</th>\n",
       "      <th>id</th>\n",
       "    </tr>\n",
       "  </thead>\n",
       "  <tbody>\n",
       "    <tr>\n",
       "      <th>0</th>\n",
       "      <td>F</td>\n",
       "      <td>20130</td>\n",
       "    </tr>\n",
       "    <tr>\n",
       "      <th>1</th>\n",
       "      <td>M</td>\n",
       "      <td>20289</td>\n",
       "    </tr>\n",
       "    <tr>\n",
       "      <th>2</th>\n",
       "      <td>O</td>\n",
       "      <td>1669</td>\n",
       "    </tr>\n",
       "  </tbody>\n",
       "</table>\n",
       "</div>"
      ],
      "text/plain": [
       "  gender     id\n",
       "0      F  20130\n",
       "1      M  20289\n",
       "2      O   1669"
      ]
     },
     "execution_count": 76,
     "metadata": {},
     "output_type": "execute_result"
    }
   ],
   "source": [
    "df.groupby(df['gender'])['id'].nunique().reset_index()"
   ]
  },
  {
   "cell_type": "code",
   "execution_count": 77,
   "id": "af954f46",
   "metadata": {},
   "outputs": [
    {
     "data": {
      "text/html": [
       "<div>\n",
       "<style scoped>\n",
       "    .dataframe tbody tr th:only-of-type {\n",
       "        vertical-align: middle;\n",
       "    }\n",
       "\n",
       "    .dataframe tbody tr th {\n",
       "        vertical-align: top;\n",
       "    }\n",
       "\n",
       "    .dataframe thead th {\n",
       "        text-align: right;\n",
       "    }\n",
       "</style>\n",
       "<table border=\"1\" class=\"dataframe\">\n",
       "  <thead>\n",
       "    <tr style=\"text-align: right;\">\n",
       "      <th></th>\n",
       "      <th>country</th>\n",
       "      <th>id</th>\n",
       "    </tr>\n",
       "  </thead>\n",
       "  <tbody>\n",
       "    <tr>\n",
       "      <th>0</th>\n",
       "      <td>AUS</td>\n",
       "      <td>1168</td>\n",
       "    </tr>\n",
       "    <tr>\n",
       "      <th>1</th>\n",
       "      <td>BRA</td>\n",
       "      <td>9434</td>\n",
       "    </tr>\n",
       "    <tr>\n",
       "      <th>2</th>\n",
       "      <td>CAN</td>\n",
       "      <td>1570</td>\n",
       "    </tr>\n",
       "    <tr>\n",
       "      <th>3</th>\n",
       "      <td>DEU</td>\n",
       "      <td>3854</td>\n",
       "    </tr>\n",
       "    <tr>\n",
       "      <th>4</th>\n",
       "      <td>ESP</td>\n",
       "      <td>1993</td>\n",
       "    </tr>\n",
       "    <tr>\n",
       "      <th>5</th>\n",
       "      <td>FRA</td>\n",
       "      <td>3090</td>\n",
       "    </tr>\n",
       "    <tr>\n",
       "      <th>6</th>\n",
       "      <td>GBR</td>\n",
       "      <td>2949</td>\n",
       "    </tr>\n",
       "    <tr>\n",
       "      <th>7</th>\n",
       "      <td>MEX</td>\n",
       "      <td>5738</td>\n",
       "    </tr>\n",
       "    <tr>\n",
       "      <th>8</th>\n",
       "      <td>TUR</td>\n",
       "      <td>3732</td>\n",
       "    </tr>\n",
       "    <tr>\n",
       "      <th>9</th>\n",
       "      <td>USA</td>\n",
       "      <td>14772</td>\n",
       "    </tr>\n",
       "  </tbody>\n",
       "</table>\n",
       "</div>"
      ],
      "text/plain": [
       "  country     id\n",
       "0     AUS   1168\n",
       "1     BRA   9434\n",
       "2     CAN   1570\n",
       "3     DEU   3854\n",
       "4     ESP   1993\n",
       "5     FRA   3090\n",
       "6     GBR   2949\n",
       "7     MEX   5738\n",
       "8     TUR   3732\n",
       "9     USA  14772"
      ]
     },
     "execution_count": 77,
     "metadata": {},
     "output_type": "execute_result"
    }
   ],
   "source": [
    "df.groupby(df['country'])['id'].nunique().reset_index()"
   ]
  },
  {
   "cell_type": "code",
   "execution_count": 94,
   "id": "a682e818",
   "metadata": {},
   "outputs": [
    {
     "data": {
      "text/html": [
       "<div>\n",
       "<style scoped>\n",
       "    .dataframe tbody tr th:only-of-type {\n",
       "        vertical-align: middle;\n",
       "    }\n",
       "\n",
       "    .dataframe tbody tr th {\n",
       "        vertical-align: top;\n",
       "    }\n",
       "\n",
       "    .dataframe thead th {\n",
       "        text-align: right;\n",
       "    }\n",
       "</style>\n",
       "<table border=\"1\" class=\"dataframe\">\n",
       "  <thead>\n",
       "    <tr style=\"text-align: right;\">\n",
       "      <th></th>\n",
       "      <th>country</th>\n",
       "      <th>spent</th>\n",
       "    </tr>\n",
       "  </thead>\n",
       "  <tbody>\n",
       "    <tr>\n",
       "      <th>0</th>\n",
       "      <td>AUS</td>\n",
       "      <td>26</td>\n",
       "    </tr>\n",
       "    <tr>\n",
       "      <th>1</th>\n",
       "      <td>BRA</td>\n",
       "      <td>320</td>\n",
       "    </tr>\n",
       "    <tr>\n",
       "      <th>2</th>\n",
       "      <td>CAN</td>\n",
       "      <td>83</td>\n",
       "    </tr>\n",
       "    <tr>\n",
       "      <th>3</th>\n",
       "      <td>DEU</td>\n",
       "      <td>141</td>\n",
       "    </tr>\n",
       "    <tr>\n",
       "      <th>4</th>\n",
       "      <td>ESP</td>\n",
       "      <td>60</td>\n",
       "    </tr>\n",
       "    <tr>\n",
       "      <th>5</th>\n",
       "      <td>FRA</td>\n",
       "      <td>98</td>\n",
       "    </tr>\n",
       "    <tr>\n",
       "      <th>6</th>\n",
       "      <td>GBR</td>\n",
       "      <td>97</td>\n",
       "    </tr>\n",
       "    <tr>\n",
       "      <th>7</th>\n",
       "      <td>MEX</td>\n",
       "      <td>186</td>\n",
       "    </tr>\n",
       "    <tr>\n",
       "      <th>8</th>\n",
       "      <td>TUR</td>\n",
       "      <td>120</td>\n",
       "    </tr>\n",
       "    <tr>\n",
       "      <th>9</th>\n",
       "      <td>USA</td>\n",
       "      <td>673</td>\n",
       "    </tr>\n",
       "  </tbody>\n",
       "</table>\n",
       "</div>"
      ],
      "text/plain": [
       "  country  spent\n",
       "0     AUS     26\n",
       "1     BRA    320\n",
       "2     CAN     83\n",
       "3     DEU    141\n",
       "4     ESP     60\n",
       "5     FRA     98\n",
       "6     GBR     97\n",
       "7     MEX    186\n",
       "8     TUR    120\n",
       "9     USA    673"
      ]
     },
     "execution_count": 94,
     "metadata": {},
     "output_type": "execute_result"
    }
   ],
   "source": [
    "df_new.groupby(df_new['country'])['spent'].nunique().reset_index()"
   ]
  },
  {
   "cell_type": "code",
   "execution_count": 78,
   "id": "4507628a",
   "metadata": {},
   "outputs": [
    {
     "data": {
      "text/html": [
       "<div>\n",
       "<style scoped>\n",
       "    .dataframe tbody tr th:only-of-type {\n",
       "        vertical-align: middle;\n",
       "    }\n",
       "\n",
       "    .dataframe tbody tr th {\n",
       "        vertical-align: top;\n",
       "    }\n",
       "\n",
       "    .dataframe thead th {\n",
       "        text-align: right;\n",
       "    }\n",
       "</style>\n",
       "<table border=\"1\" class=\"dataframe\">\n",
       "  <thead>\n",
       "    <tr style=\"text-align: right;\">\n",
       "      <th></th>\n",
       "      <th>device</th>\n",
       "      <th>id</th>\n",
       "    </tr>\n",
       "  </thead>\n",
       "  <tbody>\n",
       "    <tr>\n",
       "      <th>0</th>\n",
       "      <td>A</td>\n",
       "      <td>30289</td>\n",
       "    </tr>\n",
       "    <tr>\n",
       "      <th>1</th>\n",
       "      <td>I</td>\n",
       "      <td>18360</td>\n",
       "    </tr>\n",
       "  </tbody>\n",
       "</table>\n",
       "</div>"
      ],
      "text/plain": [
       "  device     id\n",
       "0      A  30289\n",
       "1      I  18360"
      ]
     },
     "execution_count": 78,
     "metadata": {},
     "output_type": "execute_result"
    }
   ],
   "source": [
    "# Device-the device type the user purchased on (I = iOS, A = android)\n",
    "df.groupby(df['device'])['id'].nunique().reset_index()"
   ]
  },
  {
   "cell_type": "code",
   "execution_count": 93,
   "id": "3670bfa5",
   "metadata": {},
   "outputs": [
    {
     "data": {
      "text/html": [
       "<div>\n",
       "<style scoped>\n",
       "    .dataframe tbody tr th:only-of-type {\n",
       "        vertical-align: middle;\n",
       "    }\n",
       "\n",
       "    .dataframe tbody tr th {\n",
       "        vertical-align: top;\n",
       "    }\n",
       "\n",
       "    .dataframe thead th {\n",
       "        text-align: right;\n",
       "    }\n",
       "</style>\n",
       "<table border=\"1\" class=\"dataframe\">\n",
       "  <thead>\n",
       "    <tr style=\"text-align: right;\">\n",
       "      <th></th>\n",
       "      <th>device</th>\n",
       "      <th>spent</th>\n",
       "    </tr>\n",
       "  </thead>\n",
       "  <tbody>\n",
       "    <tr>\n",
       "      <th>0</th>\n",
       "      <td>A</td>\n",
       "      <td>812</td>\n",
       "    </tr>\n",
       "    <tr>\n",
       "      <th>1</th>\n",
       "      <td>I</td>\n",
       "      <td>969</td>\n",
       "    </tr>\n",
       "  </tbody>\n",
       "</table>\n",
       "</div>"
      ],
      "text/plain": [
       "  device  spent\n",
       "0      A    812\n",
       "1      I    969"
      ]
     },
     "execution_count": 93,
     "metadata": {},
     "output_type": "execute_result"
    }
   ],
   "source": [
    "df_new.groupby(df_new['device'])['spent'].nunique().reset_index()"
   ]
  }
 ],
 "metadata": {
  "kernelspec": {
   "display_name": "Python 3 (ipykernel)",
   "language": "python",
   "name": "python3"
  },
  "language_info": {
   "codemirror_mode": {
    "name": "ipython",
    "version": 3
   },
   "file_extension": ".py",
   "mimetype": "text/x-python",
   "name": "python",
   "nbconvert_exporter": "python",
   "pygments_lexer": "ipython3",
   "version": "3.9.12"
  }
 },
 "nbformat": 4,
 "nbformat_minor": 5
}
